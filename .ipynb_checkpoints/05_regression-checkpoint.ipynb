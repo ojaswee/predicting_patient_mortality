{
 "cells": [
  {
   "cell_type": "code",
   "execution_count": 66,
   "metadata": {},
   "outputs": [],
   "source": [
    "import pandas as pd\n",
    "import seaborn as sns\n",
    "import matplotlib.pylab as plt\n",
    "import numpy as np\n",
    "from sklearn.model_selection import KFold\n",
    "from sklearn import linear_model\n",
    "from sklearn.linear_model import LogisticRegression\n",
    "import sys\n",
    "import warnings\n",
    "\n",
    "if not sys.warnoptions:\n",
    "    warnings.simplefilter(\"ignore\")"
   ]
  },
  {
   "cell_type": "code",
   "execution_count": 20,
   "metadata": {},
   "outputs": [
    {
     "data": {
      "text/html": [
       "<div>\n",
       "<style scoped>\n",
       "    .dataframe tbody tr th:only-of-type {\n",
       "        vertical-align: middle;\n",
       "    }\n",
       "\n",
       "    .dataframe tbody tr th {\n",
       "        vertical-align: top;\n",
       "    }\n",
       "\n",
       "    .dataframe thead th {\n",
       "        text-align: right;\n",
       "    }\n",
       "</style>\n",
       "<table border=\"1\" class=\"dataframe\">\n",
       "  <thead>\n",
       "    <tr style=\"text-align: right;\">\n",
       "      <th></th>\n",
       "      <th>subject_id</th>\n",
       "      <th>age</th>\n",
       "      <th>urea_n_min</th>\n",
       "      <th>urea_n_max</th>\n",
       "      <th>urea_n_mean</th>\n",
       "      <th>resprate_min</th>\n",
       "      <th>resprate_max</th>\n",
       "      <th>resprate_mean</th>\n",
       "      <th>glucose_min</th>\n",
       "      <th>glucose_max</th>\n",
       "      <th>...</th>\n",
       "      <th>oasis</th>\n",
       "      <th>lods</th>\n",
       "      <th>gender_F</th>\n",
       "      <th>gender_M</th>\n",
       "      <th>marital_status_DIVORCED</th>\n",
       "      <th>marital_status_MARRIED</th>\n",
       "      <th>marital_status_SEPARATED</th>\n",
       "      <th>marital_status_SINGLE</th>\n",
       "      <th>marital_status_WIDOWED</th>\n",
       "      <th>death</th>\n",
       "    </tr>\n",
       "  </thead>\n",
       "  <tbody>\n",
       "    <tr>\n",
       "      <th>0</th>\n",
       "      <td>15057</td>\n",
       "      <td>58.831224</td>\n",
       "      <td>16.0</td>\n",
       "      <td>37.0</td>\n",
       "      <td>26.111111</td>\n",
       "      <td>10.0</td>\n",
       "      <td>52</td>\n",
       "      <td>20.104478</td>\n",
       "      <td>67.0</td>\n",
       "      <td>405.0</td>\n",
       "      <td>...</td>\n",
       "      <td>36.5</td>\n",
       "      <td>5.5</td>\n",
       "      <td>0</td>\n",
       "      <td>1</td>\n",
       "      <td>0</td>\n",
       "      <td>1</td>\n",
       "      <td>0</td>\n",
       "      <td>0</td>\n",
       "      <td>0</td>\n",
       "      <td>1</td>\n",
       "    </tr>\n",
       "    <tr>\n",
       "      <th>1</th>\n",
       "      <td>79262</td>\n",
       "      <td>81.618606</td>\n",
       "      <td>10.0</td>\n",
       "      <td>15.0</td>\n",
       "      <td>13.500000</td>\n",
       "      <td>11.0</td>\n",
       "      <td>31</td>\n",
       "      <td>18.704225</td>\n",
       "      <td>119.0</td>\n",
       "      <td>348.0</td>\n",
       "      <td>...</td>\n",
       "      <td>48.0</td>\n",
       "      <td>4.0</td>\n",
       "      <td>0</td>\n",
       "      <td>1</td>\n",
       "      <td>0</td>\n",
       "      <td>1</td>\n",
       "      <td>0</td>\n",
       "      <td>0</td>\n",
       "      <td>0</td>\n",
       "      <td>1</td>\n",
       "    </tr>\n",
       "    <tr>\n",
       "      <th>2</th>\n",
       "      <td>77191</td>\n",
       "      <td>79.102744</td>\n",
       "      <td>16.0</td>\n",
       "      <td>56.0</td>\n",
       "      <td>35.500000</td>\n",
       "      <td>20.0</td>\n",
       "      <td>31</td>\n",
       "      <td>25.744681</td>\n",
       "      <td>90.0</td>\n",
       "      <td>188.0</td>\n",
       "      <td>...</td>\n",
       "      <td>35.0</td>\n",
       "      <td>6.0</td>\n",
       "      <td>1</td>\n",
       "      <td>0</td>\n",
       "      <td>1</td>\n",
       "      <td>0</td>\n",
       "      <td>0</td>\n",
       "      <td>0</td>\n",
       "      <td>0</td>\n",
       "      <td>0</td>\n",
       "    </tr>\n",
       "    <tr>\n",
       "      <th>3</th>\n",
       "      <td>84966</td>\n",
       "      <td>88.232043</td>\n",
       "      <td>8.0</td>\n",
       "      <td>27.0</td>\n",
       "      <td>17.692308</td>\n",
       "      <td>10.0</td>\n",
       "      <td>51</td>\n",
       "      <td>17.770833</td>\n",
       "      <td>92.0</td>\n",
       "      <td>271.0</td>\n",
       "      <td>...</td>\n",
       "      <td>40.5</td>\n",
       "      <td>4.0</td>\n",
       "      <td>1</td>\n",
       "      <td>0</td>\n",
       "      <td>0</td>\n",
       "      <td>0</td>\n",
       "      <td>0</td>\n",
       "      <td>1</td>\n",
       "      <td>0</td>\n",
       "      <td>1</td>\n",
       "    </tr>\n",
       "    <tr>\n",
       "      <th>4</th>\n",
       "      <td>94997</td>\n",
       "      <td>90.000000</td>\n",
       "      <td>38.0</td>\n",
       "      <td>48.0</td>\n",
       "      <td>42.250000</td>\n",
       "      <td>4.0</td>\n",
       "      <td>40</td>\n",
       "      <td>26.360000</td>\n",
       "      <td>62.0</td>\n",
       "      <td>135.0</td>\n",
       "      <td>...</td>\n",
       "      <td>35.0</td>\n",
       "      <td>5.0</td>\n",
       "      <td>1</td>\n",
       "      <td>0</td>\n",
       "      <td>0</td>\n",
       "      <td>0</td>\n",
       "      <td>0</td>\n",
       "      <td>1</td>\n",
       "      <td>0</td>\n",
       "      <td>0</td>\n",
       "    </tr>\n",
       "  </tbody>\n",
       "</table>\n",
       "<p>5 rows × 168 columns</p>\n",
       "</div>"
      ],
      "text/plain": [
       "   subject_id        age  urea_n_min  urea_n_max  urea_n_mean  resprate_min  \\\n",
       "0       15057  58.831224        16.0        37.0    26.111111          10.0   \n",
       "1       79262  81.618606        10.0        15.0    13.500000          11.0   \n",
       "2       77191  79.102744        16.0        56.0    35.500000          20.0   \n",
       "3       84966  88.232043         8.0        27.0    17.692308          10.0   \n",
       "4       94997  90.000000        38.0        48.0    42.250000           4.0   \n",
       "\n",
       "   resprate_max  resprate_mean  glucose_min  glucose_max  ...    oasis  lods  \\\n",
       "0            52      20.104478         67.0        405.0  ...     36.5   5.5   \n",
       "1            31      18.704225        119.0        348.0  ...     48.0   4.0   \n",
       "2            31      25.744681         90.0        188.0  ...     35.0   6.0   \n",
       "3            51      17.770833         92.0        271.0  ...     40.5   4.0   \n",
       "4            40      26.360000         62.0        135.0  ...     35.0   5.0   \n",
       "\n",
       "   gender_F  gender_M  marital_status_DIVORCED  marital_status_MARRIED  \\\n",
       "0         0         1                        0                       1   \n",
       "1         0         1                        0                       1   \n",
       "2         1         0                        1                       0   \n",
       "3         1         0                        0                       0   \n",
       "4         1         0                        0                       0   \n",
       "\n",
       "   marital_status_SEPARATED  marital_status_SINGLE  marital_status_WIDOWED  \\\n",
       "0                         0                      0                       0   \n",
       "1                         0                      0                       0   \n",
       "2                         0                      0                       0   \n",
       "3                         0                      1                       0   \n",
       "4                         0                      1                       0   \n",
       "\n",
       "   death  \n",
       "0      1  \n",
       "1      1  \n",
       "2      0  \n",
       "3      1  \n",
       "4      0  \n",
       "\n",
       "[5 rows x 168 columns]"
      ]
     },
     "execution_count": 20,
     "metadata": {},
     "output_type": "execute_result"
    }
   ],
   "source": [
    "df = pd.read_csv('all_data_combined.csv')\n",
    "df.head()"
   ]
  },
  {
   "cell_type": "code",
   "execution_count": 82,
   "metadata": {},
   "outputs": [],
   "source": [
    "variables=[]\n",
    "accuracy=[]\n",
    "for c in [0.00001,0.0001,0.001,0.01,0.1,1.2,4,8,16]:\n",
    "    model = LogisticRegression(penalty='l1',C=c)\n",
    "    model.fit(df.iloc[0:1800,1:df.shape[1]-1], df.iloc[0:1800,df.shape[1]-1]) \n",
    "    score=model.score(df.iloc[1800:,1:df.shape[1]-1], df.iloc[1800:,df.shape[1]-1])\n",
    "    accuracy.append(score)\n",
    "    variables.append(np.count_nonzero(model.coef_))"
   ]
  },
  {
   "cell_type": "code",
   "execution_count": 91,
   "metadata": {},
   "outputs": [
    {
     "data": {
      "text/plain": [
       "[<matplotlib.lines.Line2D at 0x7ff18c5967b8>]"
      ]
     },
     "execution_count": 91,
     "metadata": {},
     "output_type": "execute_result"
    },
    {
     "data": {
      "image/png": "[encoded data removed]",
      "text/plain": [
       "<Figure size 432x288 with 1 Axes>"
      ]
     },
     "metadata": {
      "needs_background": "light"
     },
     "output_type": "display_data"
    }
   ],
   "source": [
    "plt.plot(variables,accuracy,'ro-')"
   ]
  },
  {
   "cell_type": "code",
   "execution_count": 92,
   "metadata": {},
   "outputs": [],
   "source": [
    "variables=[]\n",
    "accuracy=[]\n",
    "for c in [0.00001,0.0001,0.001,0.01,0.1,1.2,4,8,16]:\n",
    "    model = LogisticRegression(penalty='l2',C=c)\n",
    "    model.fit(df.iloc[0:1800,1:df.shape[1]-1], df.iloc[0:1800,df.shape[1]-1]) \n",
    "    score=model.score(df.iloc[1800:,1:df.shape[1]-1], df.iloc[1800:,df.shape[1]-1])\n",
    "    accuracy.append(score)\n",
    "    variables.append(np.count_nonzero(model.coef_))"
   ]
  },
  {
   "cell_type": "code",
   "execution_count": 93,
   "metadata": {},
   "outputs": [
    {
     "data": {
      "text/plain": [
       "[<matplotlib.lines.Line2D at 0x7ff18c55a390>]"
      ]
     },
     "execution_count": 93,
     "metadata": {},
     "output_type": "execute_result"
    },
    {
     "data": {
      "image/png": "[encoded data removed]",
      "text/plain": [
       "<Figure size 432x288 with 1 Axes>"
      ]
     },
     "metadata": {
      "needs_background": "light"
     },
     "output_type": "display_data"
    }
   ],
   "source": [
    "plt.plot(variables,accuracy,'ro-')"
   ]
  },
  {
   "cell_type": "code",
   "execution_count": 97,
   "metadata": {},
   "outputs": [],
   "source": [
    "def logistic(df,method,reg):\n",
    "    \n",
    "    kf = KFold(n_splits=3, random_state=0)\n",
    "    \n",
    "    result = []\n",
    "    \n",
    "    for train, test in kf.split(df):\n",
    "        \n",
    "        train_data = df.iloc[train,:]\n",
    "        test_data =  df.iloc[test,:]\n",
    "\n",
    "        trainx = train_data.iloc[:,1:(train_data.shape[1]-1)]\n",
    "        trainy = train_data.iloc[:,(train_data.shape[1]-1)]\n",
    "\n",
    "        testx = test_data.iloc[:,1:test_data.shape[1]-1]\n",
    "        testy = test_data.iloc[:,test_data.shape[1]-1]\n",
    "        \n",
    "        model = LogisticRegression(penalty=method,C=reg)\n",
    "        model.fit(trainx, trainy) \n",
    "        result.append([model.score(testx, testy),np.count_nonzero(model.coef_)])\n",
    "        \n",
    "    return result"
   ]
  },
  {
   "cell_type": "code",
   "execution_count": 101,
   "metadata": {},
   "outputs": [],
   "source": [
    "accuracy=[]\n",
    "variables=[]\n",
    "for strength in [0.00001,0.0001,0.001,0.01,0.1,1,2,4,8,16]:\n",
    "    res = logistic(df,method='l1',reg=strength)\n",
    "    accuracy.append(np.average([x[0] for x in res]))\n",
    "    variables.append(int(np.average([x[1] for x in res])))"
   ]
  },
  {
   "cell_type": "code",
   "execution_count": 102,
   "metadata": {},
   "outputs": [
    {
     "data": {
      "text/plain": [
       "[<matplotlib.lines.Line2D at 0x7ff18c60c4a8>]"
      ]
     },
     "execution_count": 102,
     "metadata": {},
     "output_type": "execute_result"
    },
    {
     "data": {
      "image/png": "[encoded data removed]",
      "text/plain": [
       "<Figure size 432x288 with 1 Axes>"
      ]
     },
     "metadata": {
      "needs_background": "light"
     },
     "output_type": "display_data"
    }
   ],
   "source": [
    "plt.plot(variables,accuracy,'ro-')"
   ]
  },
  {
   "cell_type": "code",
   "execution_count": 55,
   "metadata": {},
   "outputs": [
    {
     "name": "stdout",
     "output_type": "stream",
     "text": [
      "0.7857943898607761\n",
      "0.8132060102899604\n",
      "0.8443374785841656\n",
      "0.851772641862501\n",
      "0.8536283570898552\n",
      "0.8499143366627427\n"
     ]
    }
   ],
   "source": [
    "for strength in [0.00001,0.0001,0.001,0.01,0.1,1]:\n",
    "    print(logistic(df,method='l2',reg=strength))"
   ]
  },
  {
   "cell_type": "code",
   "execution_count": null,
   "metadata": {},
   "outputs": [],
   "source": []
  }
 ],
 "metadata": {
  "kernelspec": {
   "display_name": "Python 3",
   "language": "python",
   "name": "python3"
  },
  "language_info": {
   "codemirror_mode": {
    "name": "ipython",
    "version": 3
   },
   "file_extension": ".py",
   "mimetype": "text/x-python",
   "name": "python",
   "nbconvert_exporter": "python",
   "pygments_lexer": "ipython3",
   "version": "3.4.8"
  }
 },
 "nbformat": 4,
 "nbformat_minor": 2
}
